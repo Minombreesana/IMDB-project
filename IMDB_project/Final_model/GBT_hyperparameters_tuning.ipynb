{
 "cells": [
  {
   "cell_type": "code",
   "execution_count": 3,
   "source": [
    "import numpy as np\r\n",
    "import pandas as pd"
   ],
   "outputs": [],
   "metadata": {}
  },
  {
   "cell_type": "code",
   "execution_count": 4,
   "source": [
    "x = pd.read_csv('../Data/Intermediate_results/X_opening.csv')\r\n",
    "y = x['worldwide_gross']\r\n",
    "x = x.drop('worldwide_gross', axis = 1)"
   ],
   "outputs": [],
   "metadata": {}
  },
  {
   "cell_type": "code",
   "execution_count": 5,
   "source": [
    "from sklearn.model_selection import train_test_split\r\n",
    "\r\n",
    "x_train, x_test, y_train, y_test = train_test_split(x,y, random_state = 1)"
   ],
   "outputs": [],
   "metadata": {}
  },
  {
   "cell_type": "code",
   "execution_count": 6,
   "source": [
    "from sklearn.model_selection import GridSearchCV\r\n",
    "\r\n",
    "param_test_1 = {'n_estimators': range(20,501,20)}"
   ],
   "outputs": [],
   "metadata": {}
  },
  {
   "cell_type": "code",
   "execution_count": 8,
   "source": [
    "list(param_test_1['n_estimators'])"
   ],
   "outputs": [
    {
     "output_type": "execute_result",
     "data": {
      "text/plain": [
       "[20,\n",
       " 40,\n",
       " 60,\n",
       " 80,\n",
       " 100,\n",
       " 120,\n",
       " 140,\n",
       " 160,\n",
       " 180,\n",
       " 200,\n",
       " 220,\n",
       " 240,\n",
       " 260,\n",
       " 280,\n",
       " 300,\n",
       " 320,\n",
       " 340,\n",
       " 360,\n",
       " 380,\n",
       " 400,\n",
       " 420,\n",
       " 440,\n",
       " 460,\n",
       " 480,\n",
       " 500]"
      ]
     },
     "metadata": {},
     "execution_count": 8
    }
   ],
   "metadata": {}
  },
  {
   "cell_type": "code",
   "execution_count": 9,
   "source": [
    "from sklearn.ensemble import GradientBoostingRegressor\r\n",
    "estimator = GradientBoostingRegressor(learning_rate = 0.1,\r\n",
    "                                      min_samples_split =500,\r\n",
    "                                      min_samples_leaf = 50,\r\n",
    "                                      max_depth = 8, \r\n",
    "                                      max_features = 'sqrt',\r\n",
    "                                      subsample = 0.8,\r\n",
    "                                      random_state = 10)"
   ],
   "outputs": [],
   "metadata": {}
  },
  {
   "cell_type": "code",
   "execution_count": 10,
   "source": [
    "gsearch1 = GridSearchCV(estimator,\r\n",
    "                        param_grid = param_test_1,\r\n",
    "                        scoring = 'r2',\r\n",
    "                        cv = 5)"
   ],
   "outputs": [],
   "metadata": {}
  },
  {
   "cell_type": "code",
   "execution_count": 11,
   "source": [
    "gsearch1.fit(x_train, y_train)"
   ],
   "outputs": [
    {
     "output_type": "execute_result",
     "data": {
      "text/plain": [
       "GridSearchCV(cv=5,\n",
       "             estimator=GradientBoostingRegressor(max_depth=8,\n",
       "                                                 max_features='sqrt',\n",
       "                                                 min_samples_leaf=50,\n",
       "                                                 min_samples_split=500,\n",
       "                                                 random_state=10,\n",
       "                                                 subsample=0.8),\n",
       "             param_grid={'n_estimators': range(20, 501, 20)}, scoring='r2')"
      ]
     },
     "metadata": {},
     "execution_count": 11
    }
   ],
   "metadata": {}
  },
  {
   "cell_type": "code",
   "execution_count": 13,
   "source": [
    "list(zip(gsearch1.cv_results_['mean_test_score'], gsearch1.cv_results_['std_test_score'],\r\n",
    "         gsearch1.cv_results_['params'])), gsearch1.best_params_, gsearch1.best_score_"
   ],
   "outputs": [
    {
     "output_type": "execute_result",
     "data": {
      "text/plain": [
       "([(0.6843427762922084, 0.07026238101997231, {'n_estimators': 20}),\n",
       "  (0.7423318957377184, 0.06755831878190194, {'n_estimators': 40}),\n",
       "  (0.7481397661829827, 0.06468495784073112, {'n_estimators': 60}),\n",
       "  (0.7526439911354817, 0.06210798512381848, {'n_estimators': 80}),\n",
       "  (0.7548695818280318, 0.058605003611637035, {'n_estimators': 100}),\n",
       "  (0.7571573519076675, 0.05758990694171246, {'n_estimators': 120}),\n",
       "  (0.7593382798512529, 0.05578081922855053, {'n_estimators': 140}),\n",
       "  (0.7595887557088634, 0.05450952881456312, {'n_estimators': 160}),\n",
       "  (0.7607551695559648, 0.05376094739239208, {'n_estimators': 180}),\n",
       "  (0.7601633697211537, 0.05217081407480417, {'n_estimators': 200}),\n",
       "  (0.7615899520873597, 0.05139258440375896, {'n_estimators': 220}),\n",
       "  (0.7620268246742531, 0.05074948655124318, {'n_estimators': 240}),\n",
       "  (0.7612100741744332, 0.049805461748465084, {'n_estimators': 260}),\n",
       "  (0.7606770589063498, 0.04936798317238601, {'n_estimators': 280}),\n",
       "  (0.7613759521009114, 0.04859686030602248, {'n_estimators': 300}),\n",
       "  (0.7609161711680622, 0.048825515088331176, {'n_estimators': 320}),\n",
       "  (0.7617226748108392, 0.048444480798456285, {'n_estimators': 340}),\n",
       "  (0.7617917157542793, 0.04779067729699098, {'n_estimators': 360}),\n",
       "  (0.7613482442701165, 0.04800929958037852, {'n_estimators': 380}),\n",
       "  (0.7606766851731087, 0.047688471291747234, {'n_estimators': 400}),\n",
       "  (0.7603099606976172, 0.047827858706002604, {'n_estimators': 420}),\n",
       "  (0.760038525453999, 0.047089838604503456, {'n_estimators': 440}),\n",
       "  (0.7603990111343959, 0.046599253169681554, {'n_estimators': 460}),\n",
       "  (0.7598458978823934, 0.04575735724057335, {'n_estimators': 480}),\n",
       "  (0.7598632731928249, 0.045338032899092565, {'n_estimators': 500})],\n",
       " {'n_estimators': 240},\n",
       " 0.7620268246742531)"
      ]
     },
     "metadata": {},
     "execution_count": 13
    }
   ],
   "metadata": {}
  },
  {
   "cell_type": "code",
   "execution_count": 16,
   "source": [
    "from sklearn.model_selection import cross_validate\r\n",
    "final_results = cross_validate(gsearch1.best_estimator_,x_train,y_train, return_train_score=True)"
   ],
   "outputs": [],
   "metadata": {}
  },
  {
   "cell_type": "code",
   "execution_count": 17,
   "source": [
    "test_scores = final_results['test_score']\r\n",
    "train_scores = final_results['train_score']\r\n",
    "print(np.mean(test_scores))\r\n",
    "print(np.mean(train_scores))"
   ],
   "outputs": [
    {
     "output_type": "stream",
     "name": "stdout",
     "text": [
      "0.7620268246742531\n",
      "0.8347923422196921\n"
     ]
    }
   ],
   "metadata": {}
  },
  {
   "cell_type": "code",
   "execution_count": 18,
   "source": [
    "estimator = GradientBoostingRegressor(learning_rate = 0.1,\r\n",
    "                                      min_samples_split =500,\r\n",
    "                                      min_samples_leaf = 50,\r\n",
    "                                      max_depth = 8, \r\n",
    "                                      max_features = 'sqrt',\r\n",
    "                                      subsample = 0.8,\r\n",
    "                                      random_state = 10,\r\n",
    "                                      n_estimators = 240)"
   ],
   "outputs": [],
   "metadata": {}
  },
  {
   "cell_type": "code",
   "execution_count": 19,
   "source": [
    "estimator.fit(x_train,y_train)"
   ],
   "outputs": [
    {
     "output_type": "execute_result",
     "data": {
      "text/plain": [
       "GradientBoostingRegressor(max_depth=8, max_features='sqrt', min_samples_leaf=50,\n",
       "                          min_samples_split=500, n_estimators=240,\n",
       "                          random_state=10, subsample=0.8)"
      ]
     },
     "metadata": {},
     "execution_count": 19
    }
   ],
   "metadata": {}
  },
  {
   "cell_type": "code",
   "execution_count": 20,
   "source": [
    "estimator.score(x_test,y_test)"
   ],
   "outputs": [
    {
     "output_type": "execute_result",
     "data": {
      "text/plain": [
       "0.7065894374920236"
      ]
     },
     "metadata": {},
     "execution_count": 20
    }
   ],
   "metadata": {}
  }
 ],
 "metadata": {
  "orig_nbformat": 4,
  "language_info": {
   "name": "python",
   "version": "3.9.1",
   "mimetype": "text/x-python",
   "codemirror_mode": {
    "name": "ipython",
    "version": 3
   },
   "pygments_lexer": "ipython3",
   "nbconvert_exporter": "python",
   "file_extension": ".py"
  },
  "kernelspec": {
   "name": "python3",
   "display_name": "Python 3.9.1 64-bit (system)"
  },
  "interpreter": {
   "hash": "967259d8043ae689dbb7fb43b9ea5bee1d73f8c4109473a3f204f02ef9b7b036"
  }
 },
 "nbformat": 4,
 "nbformat_minor": 2
}