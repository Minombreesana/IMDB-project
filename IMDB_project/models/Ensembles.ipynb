{
 "cells": [
  {
   "cell_type": "code",
   "execution_count": 1,
   "source": [
    "%matplotlib inline\r\n",
    "\r\n",
    "import numpy as np\r\n",
    "import pandas as pd\r\n",
    "import matplotlib.pyplot as plt\r\n"
   ],
   "outputs": [],
   "metadata": {}
  },
  {
   "cell_type": "markdown",
   "source": [
    "DECISION TREE"
   ],
   "metadata": {}
  },
  {
   "cell_type": "code",
   "execution_count": 2,
   "source": [
    "from sklearn.tree import DecisionTreeRegressor\r\n",
    "\r\n",
    "model = DecisionTreeRegressor(max_depth=2)"
   ],
   "outputs": [],
   "metadata": {}
  },
  {
   "cell_type": "code",
   "execution_count": 5,
   "source": [
    "from sklearn.model_selection import train_test_split\r\n",
    "\r\n",
    "x = pd.read_csv('../Data/Intermediate_results/X_opening.csv')\r\n",
    "y = x['worldwide_gross']\r\n",
    "x = x.drop('worldwide_gross', axis = 1)"
   ],
   "outputs": [],
   "metadata": {}
  },
  {
   "cell_type": "code",
   "execution_count": 7,
   "source": [
    "x_train, x_test, y_train, y_test = train_test_split(x,y, random_state = 1)"
   ],
   "outputs": [],
   "metadata": {}
  },
  {
   "cell_type": "code",
   "execution_count": 8,
   "source": [
    "model.fit(x_train, y_train)"
   ],
   "outputs": [
    {
     "output_type": "execute_result",
     "data": {
      "text/plain": [
       "DecisionTreeRegressor(max_depth=2)"
      ]
     },
     "metadata": {},
     "execution_count": 8
    }
   ],
   "metadata": {}
  },
  {
   "cell_type": "code",
   "execution_count": 9,
   "source": [
    "import graphviz"
   ],
   "outputs": [],
   "metadata": {}
  },
  {
   "cell_type": "code",
   "execution_count": 11,
   "source": [
    "from sklearn.tree import export_graphviz\r\n",
    "\r\n",
    "treedot = export_graphviz(model,\r\n",
    "                          out_file = None,\r\n",
    "                          feature_names = x.columns)"
   ],
   "outputs": [],
   "metadata": {}
  },
  {
   "cell_type": "code",
   "execution_count": 12,
   "source": [
    "treedot"
   ],
   "outputs": [
    {
     "output_type": "execute_result",
     "data": {
      "text/plain": [
       "'digraph Tree {\\nnode [shape=box] ;\\n0 [label=\"opening_gross <= 43007412.0\\\\nmse = 4.000521428444403e+16\\\\nsamples = 1704\\\\nvalue = 135351069.102\"] ;\\n1 [label=\"opening_gross <= 16021564.0\\\\nmse = 1.034950235831958e+16\\\\nsamples = 1555\\\\nvalue = 91015270.083\"] ;\\n0 -> 1 [labeldistance=2.5, labelangle=45, headlabel=\"True\"] ;\\n2 [label=\"mse = 3427637322514945.5\\\\nsamples = 1085\\\\nvalue = 52674826.724\"] ;\\n1 -> 2 ;\\n3 [label=\"mse = 1.51013148382197e+16\\\\nsamples = 470\\\\nvalue = 179524591.453\"] ;\\n1 -> 3 ;\\n4 [label=\"opening_gross <= 76114884.0\\\\nmse = 1.148947873962416e+17\\\\nsamples = 149\\\\nvalue = 598050179.664\"] ;\\n0 -> 4 [labeldistance=2.5, labelangle=-45, headlabel=\"False\"] ;\\n5 [label=\"mse = 4.69364605079503e+16\\\\nsamples = 102\\\\nvalue = 466370719.863\"] ;\\n4 -> 5 ;\\n6 [label=\"mse = 1.4308256468507494e+17\\\\nsamples = 47\\\\nvalue = 883822624.34\"] ;\\n4 -> 6 ;\\n}'"
      ]
     },
     "metadata": {},
     "execution_count": 12
    }
   ],
   "metadata": {}
  },
  {
   "cell_type": "code",
   "execution_count": 14,
   "source": [
    "from sklearn.ensemble import RandomForestRegressor\r\n",
    "from sklearn.model_selection import cross_validate\r\n",
    "\r\n",
    "forest = RandomForestRegressor(200)\r\n",
    "results = cross_validate(forest, x, y, cv = 5, scoring = 'r2', return_train_score=True)\r\n"
   ],
   "outputs": [],
   "metadata": {}
  },
  {
   "cell_type": "code",
   "execution_count": 15,
   "source": [
    "test_scores = results['test_score']\r\n",
    "train_scores = results['train_score']\r\n",
    "print(np.mean(test_scores))\r\n",
    "print(np.mean(train_scores))"
   ],
   "outputs": [
    {
     "output_type": "stream",
     "name": "stdout",
     "text": [
      "0.7510725646700094\n",
      "0.9646651584305556\n"
     ]
    }
   ],
   "metadata": {}
  },
  {
   "cell_type": "markdown",
   "source": [
    "GRADIENT BOOSTED TREES"
   ],
   "metadata": {}
  },
  {
   "cell_type": "code",
   "execution_count": 19,
   "source": [
    "from sklearn.ensemble import GradientBoostingRegressor\r\n",
    "\r\n",
    "ensemble = GradientBoostingRegressor()\r\n",
    "results = cross_validate(ensemble, x, y, cv = 5, scoring = 'r2', return_train_score=True)"
   ],
   "outputs": [],
   "metadata": {}
  },
  {
   "cell_type": "code",
   "execution_count": 20,
   "source": [
    "test_scores = results['test_score']\r\n",
    "train_scores = results['train_score']\r\n",
    "print(np.mean(test_scores))\r\n",
    "print(np.mean(train_scores))"
   ],
   "outputs": [
    {
     "output_type": "stream",
     "name": "stdout",
     "text": [
      "0.7447512061235312\n",
      "0.921477501142735\n"
     ]
    }
   ],
   "metadata": {}
  }
 ],
 "metadata": {
  "orig_nbformat": 4,
  "language_info": {
   "name": "python",
   "version": "3.9.1",
   "mimetype": "text/x-python",
   "codemirror_mode": {
    "name": "ipython",
    "version": 3
   },
   "pygments_lexer": "ipython3",
   "nbconvert_exporter": "python",
   "file_extension": ".py"
  },
  "kernelspec": {
   "name": "python3",
   "display_name": "Python 3.9.1 64-bit (system)"
  },
  "interpreter": {
   "hash": "967259d8043ae689dbb7fb43b9ea5bee1d73f8c4109473a3f204f02ef9b7b036"
  }
 },
 "nbformat": 4,
 "nbformat_minor": 2
}