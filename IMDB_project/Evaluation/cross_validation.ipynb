{
 "cells": [
  {
   "cell_type": "code",
   "execution_count": 23,
   "source": [
    "%matplotlib inline\r\n",
    "import numpy as np\r\n",
    "import pandas as pd\r\n",
    "import matplotlib.pyplot as plt"
   ],
   "outputs": [],
   "metadata": {}
  },
  {
   "cell_type": "code",
   "execution_count": 24,
   "source": [
    "x = pd.read_csv('../Data/Intermediate_results/X_opening.csv')\r\n",
    "y = x['worldwide_gross']\r\n",
    "x = x.drop('worldwide_gross', axis = 1)"
   ],
   "outputs": [],
   "metadata": {}
  },
  {
   "cell_type": "code",
   "execution_count": 25,
   "source": [
    "x.head()"
   ],
   "outputs": [
    {
     "output_type": "execute_result",
     "data": {
      "text/plain": [
       "   opening_gross  screens  production_budget  title_year  aspect_ratio  \\\n",
       "0         2451.0     10.0         12000000.0      2015.0          1.85   \n",
       "1      8330681.0   2271.0         13000000.0      1999.0          1.85   \n",
       "2     19883351.0   2704.0         85000000.0      2000.0          1.85   \n",
       "3      5329240.0   2331.0         20000000.0      2009.0          2.35   \n",
       "4       923715.0     19.0         20000000.0      2013.0          2.35   \n",
       "\n",
       "   duration  cast_total_facebook_likes      budget  imdb_score  \n",
       "0     111.0                     2059.0  12000000.0         7.5  \n",
       "1      97.0                    37907.0  16000000.0         7.2  \n",
       "2     100.0                     4182.0  85000000.0         4.8  \n",
       "3     108.0                     2799.0  22000000.0         5.6  \n",
       "4     134.0                     4251.0  20000000.0         8.1  "
      ],
      "text/html": [
       "<div>\n",
       "<style scoped>\n",
       "    .dataframe tbody tr th:only-of-type {\n",
       "        vertical-align: middle;\n",
       "    }\n",
       "\n",
       "    .dataframe tbody tr th {\n",
       "        vertical-align: top;\n",
       "    }\n",
       "\n",
       "    .dataframe thead th {\n",
       "        text-align: right;\n",
       "    }\n",
       "</style>\n",
       "<table border=\"1\" class=\"dataframe\">\n",
       "  <thead>\n",
       "    <tr style=\"text-align: right;\">\n",
       "      <th></th>\n",
       "      <th>opening_gross</th>\n",
       "      <th>screens</th>\n",
       "      <th>production_budget</th>\n",
       "      <th>title_year</th>\n",
       "      <th>aspect_ratio</th>\n",
       "      <th>duration</th>\n",
       "      <th>cast_total_facebook_likes</th>\n",
       "      <th>budget</th>\n",
       "      <th>imdb_score</th>\n",
       "    </tr>\n",
       "  </thead>\n",
       "  <tbody>\n",
       "    <tr>\n",
       "      <th>0</th>\n",
       "      <td>2451.0</td>\n",
       "      <td>10.0</td>\n",
       "      <td>12000000.0</td>\n",
       "      <td>2015.0</td>\n",
       "      <td>1.85</td>\n",
       "      <td>111.0</td>\n",
       "      <td>2059.0</td>\n",
       "      <td>12000000.0</td>\n",
       "      <td>7.5</td>\n",
       "    </tr>\n",
       "    <tr>\n",
       "      <th>1</th>\n",
       "      <td>8330681.0</td>\n",
       "      <td>2271.0</td>\n",
       "      <td>13000000.0</td>\n",
       "      <td>1999.0</td>\n",
       "      <td>1.85</td>\n",
       "      <td>97.0</td>\n",
       "      <td>37907.0</td>\n",
       "      <td>16000000.0</td>\n",
       "      <td>7.2</td>\n",
       "    </tr>\n",
       "    <tr>\n",
       "      <th>2</th>\n",
       "      <td>19883351.0</td>\n",
       "      <td>2704.0</td>\n",
       "      <td>85000000.0</td>\n",
       "      <td>2000.0</td>\n",
       "      <td>1.85</td>\n",
       "      <td>100.0</td>\n",
       "      <td>4182.0</td>\n",
       "      <td>85000000.0</td>\n",
       "      <td>4.8</td>\n",
       "    </tr>\n",
       "    <tr>\n",
       "      <th>3</th>\n",
       "      <td>5329240.0</td>\n",
       "      <td>2331.0</td>\n",
       "      <td>20000000.0</td>\n",
       "      <td>2009.0</td>\n",
       "      <td>2.35</td>\n",
       "      <td>108.0</td>\n",
       "      <td>2799.0</td>\n",
       "      <td>22000000.0</td>\n",
       "      <td>5.6</td>\n",
       "    </tr>\n",
       "    <tr>\n",
       "      <th>4</th>\n",
       "      <td>923715.0</td>\n",
       "      <td>19.0</td>\n",
       "      <td>20000000.0</td>\n",
       "      <td>2013.0</td>\n",
       "      <td>2.35</td>\n",
       "      <td>134.0</td>\n",
       "      <td>4251.0</td>\n",
       "      <td>20000000.0</td>\n",
       "      <td>8.1</td>\n",
       "    </tr>\n",
       "  </tbody>\n",
       "</table>\n",
       "</div>"
      ]
     },
     "metadata": {},
     "execution_count": 25
    }
   ],
   "metadata": {}
  },
  {
   "cell_type": "code",
   "execution_count": 26,
   "source": [
    "from sklearn.model_selection import train_test_split\r\n",
    "\r\n",
    "x_train, x_test, y_train, y_test = train_test_split(x,y, random_state=1)"
   ],
   "outputs": [],
   "metadata": {}
  },
  {
   "cell_type": "code",
   "execution_count": 27,
   "source": [
    "x2_train, x2_test, y2_train, y2_test = train_test_split(x,y, random_state = 1)"
   ],
   "outputs": [],
   "metadata": {}
  },
  {
   "cell_type": "code",
   "execution_count": 28,
   "source": [
    "pd.DataFrame.equals(x_train, x2_train)"
   ],
   "outputs": [
    {
     "output_type": "execute_result",
     "data": {
      "text/plain": [
       "True"
      ]
     },
     "metadata": {},
     "execution_count": 28
    }
   ],
   "metadata": {}
  },
  {
   "cell_type": "code",
   "execution_count": 29,
   "source": [
    " from sklearn.model_selection import cross_val_score\r\n",
    " from sklearn.linear_model import Lasso\r\n",
    "\r\n",
    " scores = cross_val_score(Lasso(), x,y, cv = 5, scoring = 'r2')\r\n",
    " scores"
   ],
   "outputs": [
    {
     "output_type": "stream",
     "name": "stderr",
     "text": [
      "D:\\CURSOS\\14. ML aplicado Python\\venv\\lib\\site-packages\\sklearn\\linear_model\\_coordinate_descent.py:530: ConvergenceWarning: Objective did not converge. You might want to increase the number of iterations. Duality gap: 2.6731767113945344e+18, tolerance: 7473802730705956.0\n",
      "  model = cd_fast.enet_coordinate_descent(\n"
     ]
    },
    {
     "output_type": "execute_result",
     "data": {
      "text/plain": [
       "array([0.7378514 , 0.74139734, 0.79533606, 0.8207091 , 0.63030617])"
      ]
     },
     "metadata": {},
     "execution_count": 29
    }
   ],
   "metadata": {}
  },
  {
   "cell_type": "code",
   "execution_count": 30,
   "source": [
    "scores.mean()"
   ],
   "outputs": [
    {
     "output_type": "execute_result",
     "data": {
      "text/plain": [
       "0.7451200144960649"
      ]
     },
     "metadata": {},
     "execution_count": 30
    }
   ],
   "metadata": {}
  },
  {
   "cell_type": "code",
   "execution_count": 31,
   "source": [
    "Lasso().fit(x_train, y_train).score(x_test, y_test)"
   ],
   "outputs": [
    {
     "output_type": "stream",
     "name": "stderr",
     "text": [
      "D:\\CURSOS\\14. ML aplicado Python\\venv\\lib\\site-packages\\sklearn\\linear_model\\_coordinate_descent.py:530: ConvergenceWarning: Objective did not converge. You might want to increase the number of iterations. Duality gap: 7.537429210576404e+17, tolerance: 6816888514069223.0\n",
      "  model = cd_fast.enet_coordinate_descent(\n"
     ]
    },
    {
     "output_type": "execute_result",
     "data": {
      "text/plain": [
       "0.6837898858785552"
      ]
     },
     "metadata": {},
     "execution_count": 31
    }
   ],
   "metadata": {}
  },
  {
   "cell_type": "code",
   "execution_count": 32,
   "source": [
    "from sklearn.model_selection import cross_validate\r\n",
    "\r\n",
    "results = cross_validate(Lasso(), x, y, return_train_score = True, cv = 5)\r\n",
    "results"
   ],
   "outputs": [
    {
     "output_type": "stream",
     "name": "stderr",
     "text": [
      "D:\\CURSOS\\14. ML aplicado Python\\venv\\lib\\site-packages\\sklearn\\linear_model\\_coordinate_descent.py:530: ConvergenceWarning: Objective did not converge. You might want to increase the number of iterations. Duality gap: 2.6731767113945344e+18, tolerance: 7473802730705956.0\n",
      "  model = cd_fast.enet_coordinate_descent(\n"
     ]
    },
    {
     "output_type": "execute_result",
     "data": {
      "text/plain": [
       "{'fit_time': array([0.02420139, 0.00700164, 0.00298595, 0.01500988, 0.03201318]),\n",
       " 'score_time': array([0.00100064, 0.00200748, 0.0010035 , 0.00198793, 0.0009892 ]),\n",
       " 'test_score': array([0.7378514 , 0.74139734, 0.79533606, 0.8207091 , 0.63030617]),\n",
       " 'train_score': array([0.75116255, 0.75149053, 0.74126747, 0.73073178, 0.77951828])}"
      ]
     },
     "metadata": {},
     "execution_count": 32
    }
   ],
   "metadata": {}
  },
  {
   "cell_type": "code",
   "execution_count": 33,
   "source": [
    "test_scores = results['test_score']\r\n",
    "train_scores = results['train_score']\r\n",
    "print(np.mean(test_scores))\r\n",
    "print(np.mean(train_scores))"
   ],
   "outputs": [
    {
     "output_type": "stream",
     "name": "stdout",
     "text": [
      "0.7451200144960649\n",
      "0.7508341210343469\n"
     ]
    }
   ],
   "metadata": {}
  }
 ],
 "metadata": {
  "orig_nbformat": 4,
  "language_info": {
   "name": "python",
   "version": "3.9.1",
   "mimetype": "text/x-python",
   "codemirror_mode": {
    "name": "ipython",
    "version": 3
   },
   "pygments_lexer": "ipython3",
   "nbconvert_exporter": "python",
   "file_extension": ".py"
  },
  "kernelspec": {
   "name": "python3",
   "display_name": "Python 3.9.1 64-bit (system)"
  },
  "interpreter": {
   "hash": "967259d8043ae689dbb7fb43b9ea5bee1d73f8c4109473a3f204f02ef9b7b036"
  }
 },
 "nbformat": 4,
 "nbformat_minor": 2
}