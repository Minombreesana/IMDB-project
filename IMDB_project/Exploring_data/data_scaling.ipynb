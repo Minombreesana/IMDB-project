{
 "cells": [
  {
   "cell_type": "code",
   "execution_count": 1,
   "source": [
    "%matplotlib inline\r\n",
    "\r\n",
    "import numpy as np\r\n",
    "import pandas as pd\r\n",
    "import matplotlib.pyplot as plt"
   ],
   "outputs": [],
   "metadata": {}
  },
  {
   "cell_type": "code",
   "execution_count": 4,
   "source": [
    "from sklearn.model_selection import train_test_split\r\n",
    "\r\n",
    "x = pd.read_csv('./Data/Intermediate_results/X.csv')\r\n",
    "y = x['worldwide_gross']\r\n",
    "x = x.drop('worldwide_gross', axis = 1)\r\n",
    "x = x.drop('gross', axis = 1)\r\n",
    "\r\n",
    "x_train, x_test, y_train, y_test = train_test_split(x,y)"
   ],
   "outputs": [],
   "metadata": {}
  },
  {
   "cell_type": "code",
   "execution_count": 6,
   "source": [
    "from sklearn.preprocessing import StandardScaler\r\n",
    "\r\n",
    "scaler = StandardScaler()\r\n",
    "scaler.fit(x_train, y_train)"
   ],
   "outputs": [
    {
     "output_type": "execute_result",
     "data": {
      "text/plain": [
       "StandardScaler()"
      ]
     },
     "metadata": {},
     "execution_count": 6
    }
   ],
   "metadata": {}
  },
  {
   "cell_type": "code",
   "execution_count": 7,
   "source": [
    "scaler.mean_"
   ],
   "outputs": [
    {
     "output_type": "execute_result",
     "data": {
      "text/plain": [
       "array([3.40300051e+07, 2.00192711e+03, 2.12420856e+00, 1.08547377e+02,\n",
       "       1.03424670e+04, 3.77247143e+07, 6.45428571e+00])"
      ]
     },
     "metadata": {},
     "execution_count": 7
    }
   ],
   "metadata": {}
  },
  {
   "cell_type": "code",
   "execution_count": 8,
   "source": [
    "#standar desviation for each feature\r\n",
    "scaler.scale_"
   ],
   "outputs": [
    {
     "output_type": "execute_result",
     "data": {
      "text/plain": [
       "array([4.24499774e+07, 1.22373628e+01, 7.23892971e-01, 2.28994603e+01,\n",
       "       1.96787234e+04, 6.74852924e+07, 1.08010165e+00])"
      ]
     },
     "metadata": {},
     "execution_count": 8
    }
   ],
   "metadata": {}
  },
  {
   "cell_type": "code",
   "execution_count": 9,
   "source": [
    "#centralization\r\n",
    "scaler.transform(x_train)"
   ],
   "outputs": [
    {
     "output_type": "execute_result",
     "data": {
      "text/plain": [
       "array([[-0.09493539,  0.90484276,  0.31191274, ..., -0.23560812,\n",
       "        -0.11446515, -0.79093085],\n",
       "       [ 0.84735015,  0.00595628,  0.31191274, ...,  0.28322635,\n",
       "         0.33007615, -0.1428437 ],\n",
       "       [ 1.08292154,  0.25110714, -0.37879711, ..., -0.43389334,\n",
       "         0.55234681, -0.1428437 ],\n",
       "       ...,\n",
       "       [ 0.25842169, -0.64777934,  0.31191274, ...,  0.09241113,\n",
       "         0.1078055 , -0.1428437 ],\n",
       "       [-0.54252102, -2.20040145, -0.64126685, ..., -0.46946475,\n",
       "        -0.39600798,  1.52366612],\n",
       "       [-0.68386385,  1.14999362,  0.31191274, ..., -0.40309866,\n",
       "        -0.00891043,  0.59782733]])"
      ]
     },
     "metadata": {},
     "execution_count": 9
    }
   ],
   "metadata": {}
  },
  {
   "cell_type": "code",
   "execution_count": 11,
   "source": [
    "x_train_scaled, x_test_scaled = (scaler.transform(x_train),scaler.transform(x_test) )"
   ],
   "outputs": [],
   "metadata": {}
  },
  {
   "cell_type": "code",
   "execution_count": 12,
   "source": [
    "from sklearn.linear_model import Lasso\r\n",
    "\r\n",
    "model = Lasso()\r\n",
    "model_scaled = Lasso()\r\n",
    "\r\n",
    "model.fit(x_train, y_train)\r\n",
    "model_scaled.fit(x_train_scaled, y_train)"
   ],
   "outputs": [
    {
     "output_type": "execute_result",
     "data": {
      "text/plain": [
       "Lasso()"
      ]
     },
     "metadata": {},
     "execution_count": 12
    }
   ],
   "metadata": {}
  },
  {
   "cell_type": "code",
   "execution_count": 14,
   "source": [
    "print(model.score(x_test, y_test))\r\n",
    "print(model_scaled.score(x_test_scaled, y_test))"
   ],
   "outputs": [
    {
     "output_type": "stream",
     "name": "stdout",
     "text": [
      "0.517527365968544\n",
      "0.51752736704885\n"
     ]
    }
   ],
   "metadata": {}
  },
  {
   "cell_type": "code",
   "execution_count": 16,
   "source": [
    "#scaling data without scaling each data split\r\n",
    "from sklearn.pipeline import make_pipeline\r\n",
    "\r\n",
    "model_scaled = make_pipeline(StandardScaler(), Lasso())\r\n",
    "\r\n",
    "model_scaled.fit(x_train, y_train)"
   ],
   "outputs": [
    {
     "output_type": "execute_result",
     "data": {
      "text/plain": [
       "Pipeline(steps=[('standardscaler', StandardScaler()), ('lasso', Lasso())])"
      ]
     },
     "metadata": {},
     "execution_count": 16
    }
   ],
   "metadata": {}
  },
  {
   "cell_type": "code",
   "execution_count": 17,
   "source": [
    "print(model_scaled.score(x_test, y_test))"
   ],
   "outputs": [
    {
     "output_type": "stream",
     "name": "stdout",
     "text": [
      "0.51752736704885\n"
     ]
    }
   ],
   "metadata": {}
  },
  {
   "cell_type": "markdown",
   "source": [
    "Creating new features automatically"
   ],
   "metadata": {}
  },
  {
   "cell_type": "code",
   "execution_count": 18,
   "source": [
    "A = np.arange(6).reshape(3,2)\r\n",
    "A"
   ],
   "outputs": [
    {
     "output_type": "execute_result",
     "data": {
      "text/plain": [
       "array([[0, 1],\n",
       "       [2, 3],\n",
       "       [4, 5]])"
      ]
     },
     "metadata": {},
     "execution_count": 18
    }
   ],
   "metadata": {}
  },
  {
   "cell_type": "code",
   "execution_count": 21,
   "source": [
    "from sklearn.preprocessing import PolynomialFeatures\r\n",
    "\r\n",
    "transformer = PolynomialFeatures(2)\r\n",
    "transformer.fit_transform(A)\r\n"
   ],
   "outputs": [
    {
     "output_type": "execute_result",
     "data": {
      "text/plain": [
       "array([[ 1.,  0.,  1.,  0.,  0.,  1.],\n",
       "       [ 1.,  2.,  3.,  4.,  6.,  9.],\n",
       "       [ 1.,  4.,  5., 16., 20., 25.]])"
      ]
     },
     "metadata": {},
     "execution_count": 21
    }
   ],
   "metadata": {}
  },
  {
   "cell_type": "code",
   "execution_count": 22,
   "source": [
    "x.shape"
   ],
   "outputs": [
    {
     "output_type": "execute_result",
     "data": {
      "text/plain": [
       "(4061, 7)"
      ]
     },
     "metadata": {},
     "execution_count": 22
    }
   ],
   "metadata": {}
  },
  {
   "cell_type": "code",
   "execution_count": 24,
   "source": [
    "transformer = PolynomialFeatures(2)\r\n",
    "transformer.fit_transform(x).shape"
   ],
   "outputs": [
    {
     "output_type": "execute_result",
     "data": {
      "text/plain": [
       "(4061, 36)"
      ]
     },
     "metadata": {},
     "execution_count": 24
    }
   ],
   "metadata": {}
  },
  {
   "cell_type": "code",
   "execution_count": 25,
   "source": [
    "model_poly = make_pipeline(PolynomialFeatures(2), Lasso())\r\n",
    "\r\n",
    "model_poly.fit(x_train, y_train)"
   ],
   "outputs": [
    {
     "output_type": "stream",
     "name": "stderr",
     "text": [
      "d:\\CURSOS\\14. ML aplicado Python\\venv\\lib\\site-packages\\sklearn\\linear_model\\_coordinate_descent.py:530: ConvergenceWarning: Objective did not converge. You might want to increase the number of iterations. Duality gap: 1.657976795805674e+19, tolerance: 9724260611340594.0\n",
      "  model = cd_fast.enet_coordinate_descent(\n"
     ]
    },
    {
     "output_type": "execute_result",
     "data": {
      "text/plain": [
       "Pipeline(steps=[('polynomialfeatures', PolynomialFeatures()),\n",
       "                ('lasso', Lasso())])"
      ]
     },
     "metadata": {},
     "execution_count": 25
    }
   ],
   "metadata": {}
  },
  {
   "cell_type": "code",
   "execution_count": 26,
   "source": [
    "model_poly.score(x_test, y_test)"
   ],
   "outputs": [
    {
     "output_type": "execute_result",
     "data": {
      "text/plain": [
       "0.5451109929901353"
      ]
     },
     "metadata": {},
     "execution_count": 26
    }
   ],
   "metadata": {}
  }
 ],
 "metadata": {
  "orig_nbformat": 4,
  "language_info": {
   "name": "python",
   "version": "3.9.1",
   "mimetype": "text/x-python",
   "codemirror_mode": {
    "name": "ipython",
    "version": 3
   },
   "pygments_lexer": "ipython3",
   "nbconvert_exporter": "python",
   "file_extension": ".py"
  },
  "kernelspec": {
   "name": "python3",
   "display_name": "Python 3.9.1 64-bit ('venv': venv)"
  },
  "interpreter": {
   "hash": "96a47f3d42a7df127c50905d9a4e8068715c8a3ed92f349286404e4a6e9afaf9"
  }
 },
 "nbformat": 4,
 "nbformat_minor": 2
}